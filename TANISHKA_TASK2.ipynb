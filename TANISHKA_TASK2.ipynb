{
 "cells": [
  {
   "cell_type": "markdown",
   "metadata": {
    "id": "t27QL1nPDL4u"
   },
   "source": [
    "#**Synapse Week Two**\n",
    "\n",
    "![image.png](data:image/png;base64,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)\n",
    "\n",
    "Last week, we dealt with the visualization and analytical aspect of ML. This week, lets directly get our hands dirty with various ML models.\n",
    "\n",
    "Possibly the first question one must ask is, what is Machine Learning essentially made up of? In a broad sense, ML problems can be split into Supervised and Unsupervised learning. In supervised learning are the categories of Classification and Regression, which is what we'll explore today.\n",
    "\n",
    "Like last time, resources and comments are provided above each cell, so peruse the resources and then get coding. Enough chitchat, lets get to work"
   ]
  },
  {
   "cell_type": "code",
   "execution_count": null,
   "metadata": {},
   "outputs": [],
   "source": []
  },
  {
   "cell_type": "markdown",
   "metadata": {
    "id": "hZMy_W_DEGjC"
   },
   "source": [
    "Supervised vs Unsupervised vs Reinforcement Learning:\n",
    "\n",
    "https://www.simplilearn.com/tutorials/machine-learning-tutorial/types-of-machine-learning\n",
    "\n",
    "Regression vs Classification :\n",
    "\n",
    "https://www.analyticsvidhya.com/blog/2023/05/regression-vs-classification/ (Might be a little wordy)\n",
    "\n",
    "https://www.youtube.com/watch?v=1NBwM5tavTk&ab_channel=IntuitiveML\n",
    "(A very quick video)\n",
    "\n",
    "https://www.geeksforgeeks.org/ml-classification-vs-regression/\n",
    "(Short and Sweet)\n",
    "\n",
    "Machine Learning for Everyone (Read till 1.1):\n",
    "\n",
    "https://vas3k.com/blog/machine_learning/"
   ]
  },
  {
   "cell_type": "markdown",
   "metadata": {
    "id": "vwwV-__8Ef9p"
   },
   "source": [
    "Overfitting and Underfitting [VERY IMPORTANT]\n",
    "https://www.youtube.com/watch?v=T9NtOa-IITo"
   ]
  },
  {
   "cell_type": "markdown",
   "metadata": {
    "id": "mwzTy3PoFew7"
   },
   "source": [
    "Lets import all the basic libraries."
   ]
  },
  {
   "cell_type": "code",
   "execution_count": null,
   "metadata": {},
   "outputs": [],
   "source": [
    "!pip install shap -q  #Will be used later on"
   ]
  },
  {
   "cell_type": "code",
   "execution_count": null,
   "metadata": {},
   "outputs": [],
   "source": [
    "import pandas as pd\n",
    "import numpy as np\n",
    "import matplotlib.pyplot as plt\n",
    "import seaborn as sns"
   ]
  },
  {
   "cell_type": "code",
   "execution_count": null,
   "metadata": {},
   "outputs": [],
   "source": [
    "from google.colab import drive\n",
    "drive.mount('/content/drive')"
   ]
  },
  {
   "cell_type": "markdown",
   "metadata": {
    "id": "nIT36HEFFmsb"
   },
   "source": [
    "# Regression"
   ]
  },
  {
   "cell_type": "markdown",
   "metadata": {
    "id": "U3fjGBSoxEkW"
   },
   "source": [
    "For regression we will use insurance dataset, which contains medical costs incurred\n",
    "https://drive.google.com/file/d/1ld8fGZYBi5ytg8b1CcZJvPaXfhVzIhoZ/view?usp=sharing"
   ]
  },
  {
   "cell_type": "markdown",
   "metadata": {
    "id": "-HXCPFtdxWGF"
   },
   "source": [
    "## Basic EDA"
   ]
  },
  {
   "cell_type": "markdown",
   "metadata": {
    "id": "nJf10EAJxtRA"
   },
   "source": [
    "### Import dataset"
   ]
  },
  {
   "cell_type": "code",
   "execution_count": null,
   "metadata": {},
   "outputs": [],
   "source": [
    "df = pd.read_csv(\"/content/drive/My Drive/insurance.csv\")\n"
   ]
  },
  {
   "cell_type": "markdown",
   "metadata": {
    "id": "fi_mZb7qxWGF"
   },
   "source": [
    "### Use the very first steps involved in EDA -> info, head and describe"
   ]
  },
  {
   "cell_type": "code",
   "execution_count": null,
   "metadata": {},
   "outputs": [],
   "source": [
    "df.info()"
   ]
  },
  {
   "cell_type": "code",
   "execution_count": null,
   "metadata": {},
   "outputs": [],
   "source": [
    "df.head(100)"
   ]
  },
  {
   "cell_type": "code",
   "execution_count": null,
   "metadata": {},
   "outputs": [],
   "source": [
    "df.describe()"
   ]
  },
  {
   "cell_type": "markdown",
   "metadata": {
    "id": "7tBRKN9Id6Hh"
   },
   "source": [
    "### Now, plot a histogram to understand insurance charges *distribution*"
   ]
  },
  {
   "cell_type": "code",
   "execution_count": null,
   "metadata": {},
   "outputs": [],
   "source": [
    "df['charges'].hist(bins=15, edgecolor='black', color='blue')\n",
    "plt.xlabel('Charges')\n",
    "plt.ylabel('No. Of People')\n",
    "plt.title('Charges Distribution')\n",
    "plt.show()"
   ]
  },
  {
   "cell_type": "code",
   "execution_count": null,
   "metadata": {},
   "outputs": [],
   "source": [
    "sns.histplot(data=df, x='bmi', y='charges', bins=30)"
   ]
  },
  {
   "cell_type": "markdown",
   "metadata": {
    "id": "F1-mO0fCebaz"
   },
   "source": [
    "### Plot a scatter plot between age and insurance charges"
   ]
  },
  {
   "cell_type": "code",
   "execution_count": null,
   "metadata": {},
   "outputs": [],
   "source": [
    "sns.scatterplot(data = df , x = 'age',y = 'charges')"
   ]
  },
  {
   "cell_type": "markdown",
   "metadata": {
    "id": "EpZduYR-ehOx"
   },
   "source": [
    "### Similarly, plot scatterplots for no. of children and charges, and also for bmi and charges\n"
   ]
  },
  {
   "cell_type": "code",
   "execution_count": null,
   "metadata": {},
   "outputs": [],
   "source": [
    "sns.scatterplot(data = df , x ='charges' , y = 'children' )\n",
    "plt.show()"
   ]
  },
  {
   "cell_type": "code",
   "execution_count": null,
   "metadata": {},
   "outputs": [],
   "source": [
    "sns.scatterplot(data = df , x ='charges' , y = 'children',hue='bmi' )\n",
    "plt.show()"
   ]
  },
  {
   "cell_type": "code",
   "execution_count": null,
   "metadata": {},
   "outputs": [],
   "source": [
    "sns.scatterplot(data = df , y ='charges' , x = 'bmi' )\n",
    "plt.show()"
   ]
  },
  {
   "cell_type": "code",
   "execution_count": null,
   "metadata": {},
   "outputs": [],
   "source": [
    "sns.scatterplot(data = df , y ='charges' , x = 'bmi' ,hue='age')\n",
    "plt.show()"
   ]
  },
  {
   "cell_type": "markdown",
   "metadata": {
    "id": "kf0kd_GvfKjm"
   },
   "source": [
    "### Now, use boxplots to find correlation between Sex and Charges, between Smoker and charges, and also between region and charges"
   ]
  },
  {
   "cell_type": "code",
   "execution_count": null,
   "metadata": {},
   "outputs": [],
   "source": [
    "sns.boxplot(data=df,x='sex',y='charges')\n",
    "plt.ylim(0,50000)\n",
    "plt.show()"
   ]
  },
  {
   "cell_type": "code",
   "execution_count": null,
   "metadata": {},
   "outputs": [],
   "source": [
    "sns.boxplot(data=df,x='smoker',y='charges')\n",
    "plt.show()"
   ]
  },
  {
   "cell_type": "code",
   "execution_count": null,
   "metadata": {},
   "outputs": [],
   "source": [
    "sns.boxplot(data=df,x='region',y='charges')\n",
    "plt.ylim(0,50000)\n",
    "plt.show()"
   ]
  },
  {
   "cell_type": "markdown",
   "metadata": {
    "id": "XAe8ktGhxWGG"
   },
   "source": [
    "##### Now, make a heatmap to understand correlation between all attributes"
   ]
  },
  {
   "cell_type": "code",
   "execution_count": null,
   "metadata": {},
   "outputs": [],
   "source": [
    "d = df.copy()\n",
    "d['sex'] = d['sex'].map({'male':0,'female':1})\n",
    "d['smoker'] = d['smoker'].map({'yes':0,'no':1})\n",
    "d = pd.get_dummies(d,columns=['region'])\n",
    "\n",
    "cor = d.corr()\n",
    "\n",
    "sns.heatmap(cor,annot=True)"
   ]
  },
  {
   "cell_type": "markdown",
   "metadata": {
    "id": "2QdjA86ixWGI"
   },
   "source": [
    "## Question: What do you infer from the above analysis🤔"
   ]
  },
  {
   "cell_type": "markdown",
   "metadata": {
    "id": "7ylHRcgHxWGI"
   },
   "source": [
    "### Answer here:\n",
    "Charge Distribution :\n",
    "\n",
    "  - It has maximum distribution around 0 to 10000\n",
    "  - It scatters in the range of 0 to 65000\n",
    "\n",
    "\n",
    "  - SMOKER:\n",
    "      * 0.79\n",
    "      * strong correlation\n",
    "      * highly affects the insurance charges\n",
    "      * the smokers have a higher rate of charge with a median around 35000\n",
    "  - AGE & BMI\n",
    "      * 0.2 to 0.3\n",
    "      * it ranges higher than 50000 above the age of 25\n",
    "      * moderately correlated\n",
    "      * Higher BMI tends to slightly increase medical charges\n",
    " - REGION , CHILDREN , SEX :\n",
    "      * less tahn 0.1 do not affect it so much\n"
   ]
  },
  {
   "cell_type": "markdown",
   "metadata": {
    "id": "Mx80XcmIxWGO"
   },
   "source": [
    "### Now let's prep our data to perform Regression to predict the Incurred Charges"
   ]
  },
  {
   "cell_type": "markdown",
   "metadata": {
    "id": "074OtMeq3KTu"
   },
   "source": [
    "### Again do df.info() see how the datatype is"
   ]
  },
  {
   "cell_type": "code",
   "execution_count": null,
   "metadata": {},
   "outputs": [],
   "source": [
    "df.info()"
   ]
  },
  {
   "cell_type": "markdown",
   "metadata": {
    "id": "bS72bsnhxWGO"
   },
   "source": [
    "9### As you can see, sex, region and smoker attributes are of the object data type.\n",
    "### So, convert them into numerical labels, using Label Encoder"
   ]
  },
  {
   "cell_type": "code",
   "execution_count": null,
   "metadata": {},
   "outputs": [],
   "source": [
    "df.isna().sum()"
   ]
  },
  {
   "cell_type": "code",
   "execution_count": null,
   "metadata": {},
   "outputs": [],
   "source": [
    "enc = df.copy()\n",
    "enc['sex'] = enc['sex'].map({'female':1,'male':0})"
   ]
  },
  {
   "cell_type": "code",
   "execution_count": null,
   "metadata": {},
   "outputs": [],
   "source": [
    "enc['smoker'] = enc['smoker'].map({'yes':1,\"no\":0})"
   ]
  },
  {
   "cell_type": "code",
   "execution_count": null,
   "metadata": {},
   "outputs": [],
   "source": [
    "enc['region'] = enc['region'].map({'northeast':1,'northwest':2,\"southeast\":3,\"southwest\":4})"
   ]
  },
  {
   "cell_type": "code",
   "execution_count": null,
   "metadata": {},
   "outputs": [],
   "source": [
    "enc= pd.get_dummies(enc,columns=['region'])"
   ]
  },
  {
   "cell_type": "markdown",
   "metadata": {
    "id": "vuhc8dzbAZ0z"
   },
   "source": [
    "---"
   ]
  },
  {
   "cell_type": "code",
   "execution_count": null,
   "metadata": {},
   "outputs": [],
   "source": [
    "from sklearn.preprocessing import LabelEncoder"
   ]
  },
  {
   "cell_type": "code",
   "execution_count": null,
   "metadata": {},
   "outputs": [],
   "source": [
    "lb = LabelEncoder()\n",
    "df['sex_E'] = lb.fit_transform(df['sex'])\n",
    "df['smoker_E'] = lb.fit_transform(df['smoker'])\n",
    "df['region_E'] = lb.fit_transform(df['region'])"
   ]
  },
  {
   "cell_type": "markdown",
   "metadata": {
    "id": "h8d-vyI7xWGO"
   },
   "source": [
    "Do df.head() to see how your dataframe looks like after LabelEncoding"
   ]
  },
  {
   "cell_type": "code",
   "execution_count": null,
   "metadata": {},
   "outputs": [],
   "source": [
    "df.head(50)"
   ]
  },
  {
   "cell_type": "code",
   "execution_count": null,
   "metadata": {},
   "outputs": [],
   "source": [
    "enc.head(10)"
   ]
  },
  {
   "cell_type": "markdown",
   "metadata": {
    "id": "DEp0yuekguDw"
   },
   "source": [
    "## Question: What does label encoder do? 🤔"
   ]
  },
  {
   "cell_type": "markdown",
   "metadata": {
    "id": "3bgYPpVY__A9"
   },
   "source": [
    "Label encoding is a fundamental data preprocessing technique used to convert categorical data into a numerical format ."
   ]
  },
  {
   "cell_type": "markdown",
   "metadata": {
    "id": "dZi0Dt0vxWGP"
   },
   "source": [
    "### Now that you already know about standardization and normalization (I hope🙃), implement normalization here here:\n",
    "\n",
    "\n",
    "##### Import MinMaxScaler from sklearn and normalize the coloums - ['age','bmi', 'children', 'charges']"
   ]
  },
  {
   "cell_type": "markdown",
   "metadata": {
    "id": "rjlRzbXgiEY7"
   },
   "source": [
    "\n",
    "\n",
    "### Answer:"
   ]
  },
  {
   "cell_type": "code",
   "execution_count": null,
   "metadata": {},
   "outputs": [],
   "source": [
    "from sklearn.preprocessing import MinMaxScaler"
   ]
  },
  {
   "cell_type": "code",
   "execution_count": null,
   "metadata": {},
   "outputs": [],
   "source": [
    "scaler = MinMaxScaler()"
   ]
  },
  {
   "cell_type": "code",
   "execution_count": null,
   "metadata": {},
   "outputs": [],
   "source": [
    "df['age_normalized'] = scaler.fit_transform(df[['age']])\n",
    "df['bmi_normalized'] = scaler.fit_transform(df[['age']])\n",
    "df['children_normilized'] = scaler.fit_transform(df[['children']])"
   ]
  },
  {
   "cell_type": "code",
   "execution_count": null,
   "metadata": {},
   "outputs": [],
   "source": [
    "print(df[['age','children','bmi','bmi_normalized','children_normilized' ,'age_normalized']].head(100))\n"
   ]
  },
  {
   "cell_type": "markdown",
   "metadata": {
    "id": "defbKkECpigN"
   },
   "source": [
    "## Question: Why standardization is not needed here? 🤔"
   ]
  },
  {
   "cell_type": "markdown",
   "metadata": {
    "id": "kfx82l0Iprw5"
   },
   "source": [
    "### Answer:"
   ]
  },
  {
   "cell_type": "markdown",
   "metadata": {
    "id": "sUotRfAnLi3G"
   },
   "source": [
    "That is because here we are checking for correlation with charges that is by rescaling each feature value that is normalization and not trying calculate something distance based that is  to make the mean 0 or standard deviation 1 that is standardisation"
   ]
  },
  {
   "cell_type": "markdown",
   "metadata": {
    "id": "CXYWF9ZSxWGP"
   },
   "source": [
    "As we are going to predict Insurance Charges, let us make two sections: one containing only the 'charges', and the other containing all values except for 'charges'"
   ]
  },
  {
   "cell_type": "code",
   "execution_count": null,
   "metadata": {},
   "outputs": [],
   "source": [
    "df.columns"
   ]
  },
  {
   "cell_type": "code",
   "execution_count": null,
   "metadata": {},
   "outputs": [],
   "source": [
    "#independent variable\n",
    "x = df[['age_normalized','bmi_normalized','children_normilized','sex_E','region_E','smoker_E']]"
   ]
  },
  {
   "cell_type": "code",
   "execution_count": null,
   "metadata": {},
   "outputs": [],
   "source": [
    "#dependent variable\n",
    "y=df['charges']"
   ]
  },
  {
   "cell_type": "markdown",
   "metadata": {
    "id": "7tO4Y2u3xWGP"
   },
   "source": [
    "### Train-Test Split\n",
    "\n",
    "Implementation - https://www.youtube.com/watch?v=BUkqYGPnLZ8&ab_channel=ManifoldAILearning\n",
    "\n",
    "### Now, while we need data to train our regression model, it is equally important to keep some data aside for testing the effectiveness of the aforementioned model. Thus the dataset as a whole is generally further divided into the training dataset and the testing dataset.\n",
    "\n",
    "In order to implement this, import train_test_split function from scikit-learn."
   ]
  },
  {
   "cell_type": "code",
   "execution_count": null,
   "metadata": {},
   "outputs": [],
   "source": [
    "from sklearn.model_selection import train_test_split"
   ]
  },
  {
   "cell_type": "code",
   "execution_count": null,
   "metadata": {},
   "outputs": [],
   "source": [
    "x_train,x_test,y_train,y_test=train_test_split(x,y,test_size=0.3)\n",
    "#use random_state = 10 to keep the values same"
   ]
  },
  {
   "cell_type": "markdown",
   "metadata": {
    "id": "GWhNj7AexWGP"
   },
   "source": [
    "Print the size and shape of each of the train/test splits (it should be in the ratio as per test_size parameter above, i.e in ratio of 0.3)"
   ]
  },
  {
   "cell_type": "code",
   "execution_count": null,
   "metadata": {},
   "outputs": [],
   "source": [
    "print(\"Length of training in x\",len(x_train))\n",
    "print(\"Length of testing in x\",len(x_test))\n",
    "print(\"Length of training in y\",len(y_train))\n",
    "print(\"Length of testing in y\",len(y_test))"
   ]
  },
  {
   "cell_type": "code",
   "execution_count": null,
   "metadata": {},
   "outputs": [],
   "source": [
    "x_train"
   ]
  },
  {
   "cell_type": "code",
   "execution_count": null,
   "metadata": {},
   "outputs": [],
   "source": [
    "x_test"
   ]
  },
  {
   "cell_type": "code",
   "execution_count": null,
   "metadata": {},
   "outputs": [],
   "source": [
    "y_train"
   ]
  },
  {
   "cell_type": "code",
   "execution_count": null,
   "metadata": {},
   "outputs": [],
   "source": [
    "y_test"
   ]
  },
  {
   "cell_type": "markdown",
   "metadata": {
    "id": "ppQckv8LxWGP"
   },
   "source": [
    "### The data is now split into 2 datasets of size 70% and 30% of original dataset. Surprised? 😮"
   ]
  },
  {
   "cell_type": "markdown",
   "metadata": {
    "id": "UpllR2t_xWGP"
   },
   "source": [
    "### We have preprocessed our DataFrame now we'll perform Regression on this Data"
   ]
  },
  {
   "cell_type": "markdown",
   "metadata": {
    "id": "Q4sxyEmExWGQ"
   },
   "source": [
    "### First lets understand Linear Regression, watch this video carefully it will be helpfull later on :)\n",
    "\n",
    "https://www.youtube.com/watch?v=7ArmBVF2dCs\n",
    "\n",
    "### A quick article\n",
    "https://www.analyticsvidhya.com/blog/2021/08/understanding-linear-regression-with-mathematical-insights/"
   ]
  },
  {
   "cell_type": "code",
   "execution_count": null,
   "metadata": {},
   "outputs": [],
   "source": [
    "from sklearn.linear_model import LinearRegression"
   ]
  },
  {
   "cell_type": "code",
   "execution_count": null,
   "metadata": {},
   "outputs": [],
   "source": [
    "#train a model\n",
    "regr = LinearRegression()"
   ]
  },
  {
   "cell_type": "code",
   "execution_count": null,
   "metadata": {},
   "outputs": [],
   "source": [
    "# fit the model on the training data, hint: use the fit method\n",
    "regr.fit(x_train,y_train)"
   ]
  },
  {
   "cell_type": "markdown",
   "metadata": {
    "id": "kmgh1eZAxWGQ"
   },
   "source": [
    "#### The X_train and y_train dataframes have been used to train the model. Now we will use X_test and y_test to evaluate the efficiency of the model we have trained."
   ]
  },
  {
   "cell_type": "markdown",
   "metadata": {
    "id": "3NY3lUIZxWGQ"
   },
   "source": [
    "#### Use regressor.predict() on X_test and store it in a variable called \"y_pred\". Print type and size of the y_pred.\n",
    "\n",
    "#### Size should be 402 if everything is correct. Yeh line confirm karna hai"
   ]
  },
  {
   "cell_type": "code",
   "execution_count": null,
   "metadata": {},
   "outputs": [],
   "source": [
    "# make predictions on the test data\n",
    "y_pred = regr.predict(x_test)\n",
    "print(type(y_pred))\n",
    "print(len(y_pred))"
   ]
  },
  {
   "cell_type": "code",
   "execution_count": null,
   "metadata": {},
   "outputs": [],
   "source": [
    "# calculate the mean squared error\n",
    "from sklearn.metrics import mean_squared_error\n",
    "mse = mean_squared_error(y_test,y_pred)\n",
    "print(\"Mean squared error =\",mse)"
   ]
  },
  {
   "cell_type": "code",
   "execution_count": null,
   "metadata": {},
   "outputs": [],
   "source": [
    "r2 = regr.score(x_test,y_test)\n",
    "print(r2*100)"
   ]
  },
  {
   "cell_type": "markdown",
   "metadata": {
    "id": "jaSpnycxxWGQ"
   },
   "source": [
    "### Visualize the predictions, plot a scatter plot of y_test vs y_pred and also plot the best fit line"
   ]
  },
  {
   "cell_type": "code",
   "execution_count": null,
   "metadata": {},
   "outputs": [],
   "source": [
    "from sklearn.linear_model import LinearRegression\n",
    "#Best Fit Line\n",
    "# y = slope x + intercept\n",
    "intercept = regr.intercept_\n",
    "slope = regr.coef_[0]\n",
    "line = slope * x['age_normalized'] + intercept\n",
    "plt.plot(x['age_normalized'], line, color='red', label='Line of Best Fit')"
   ]
  },
  {
   "cell_type": "code",
   "execution_count": null,
   "metadata": {},
   "outputs": [],
   "source": [
    "sns.scatterplot(x=y_test,y=y_pred)\n",
    "#plt.plot(y_test, y_pred, color=\"red\", linewidth=2, label=\"Best fit line\")\n",
    "plt.plot([y_test.min(), y_test.max()],[y_test.min(), y_test.max()],color=\"red\", linewidth=2)\n",
    "plt.xlabel(\"Actual Charges\")\n",
    "plt.ylabel(\"Predicted Charges\")\n",
    "plt.title(\"Actual vs Predicted\")\n",
    "plt.show()"
   ]
  },
  {
   "cell_type": "markdown",
   "metadata": {
    "id": "ziqvqikWxWGQ"
   },
   "source": [
    "# Now let's start the fun part 😃"
   ]
  },
  {
   "cell_type": "markdown",
   "metadata": {
    "id": "gp_2xHchxWGQ"
   },
   "source": [
    "### Have you ever wondered what happens when you call **'regressor.fit(X_train, y_train)'** ?"
   ]
  },
  {
   "cell_type": "markdown",
   "metadata": {
    "id": "cWzMHYTgxWGQ"
   },
   "source": [
    "### To understand what's hapenning in .fit method we will be implementing Linear Regression from scratch."
   ]
  },
  {
   "cell_type": "code",
   "execution_count": null,
   "metadata": {},
   "outputs": [],
   "source": [
    "class LinearRegression() :\n",
    "\n",
    "    def __init__( self, learning_rate, iterations ) :\n",
    "        # initialize the learning rate and iterations provides by the user\n",
    "        self.learning_rate = learning_rate\n",
    "        self.iterations = iterations\n",
    "\n",
    "    # Function for model training\n",
    "    def fit( self, X, Y ) :\n",
    "\n",
    "        # no_of_training_examples, no_of_features\n",
    "        self.m, self.n = X.shape\n",
    "\n",
    "        # what does self.m and self.n represent and why are they calculated?\n",
    "        '''\n",
    "         m ==> training exaples that is rows in x\n",
    "         n ==> num of features that is columns in x\n",
    "        '''\n",
    "        # self.m represents the no. of rows (samples) in training data, while self.n shows number of features in the training data\n",
    "        # they are calculated for calculating the mean and var based on the number of samples and also calculating the weights\n",
    "        # weight initialization\n",
    "        self.w = np.zeros(self.n) # weight- slope\n",
    "\n",
    "        self.b = 0 # set this equal to 0 (bias -  intercept)\n",
    "\n",
    "        self.X = X  # set this equal to X (independent feature)\n",
    "\n",
    "        self.Y = Y # set this equal to Y (dependent feature)\n",
    "\n",
    "\n",
    "        # gradient descent learning\n",
    "        for i in range(self.iterations) : # complete the range function\n",
    "\n",
    "            self.update_weights()\n",
    "\n",
    "        return self\n",
    "\n",
    "    # Helper function to update weights in gradient descent\n",
    "    def update_weights(self) :\n",
    "\n",
    "        Y_pred = np.dot(self.X,self.w)+self.b# complete this line WX + B\n",
    "\n",
    "        # calculate gradients\n",
    "        #dw = -2 *( np.dot(self.X,(self.Y-Y_pred)) **2) /self.m # dL/dW -> L = MSE = (y -ypred)^2/m\n",
    "        #db = -2 *( (self.Y-Y_pred) **2) / self.m # dL/dW -> L = MSE = (y -ypred)^2/m\n",
    "        xt = np.transpose(self.X)\n",
    "        dw = (1/self.m) * np.dot(xt, (Y_pred - self.Y))\n",
    "        db = (1/self.m) * np.sum(Y_pred - self.Y)\n",
    "\n",
    "\n",
    "        # write the code to update the weights\n",
    "        self.w = self.w - self.learning_rate * dw\n",
    "        self.b = self.b - self.learning_rate * db\n",
    "\n",
    "        return self\n",
    "\n",
    "\n",
    "    def predict(self,X) :\n",
    "\n",
    "        return X.dot(self.w) + self.b\n"
   ]
  },
  {
   "cell_type": "code",
   "execution_count": null,
   "metadata": {},
   "outputs": [],
   "source": [
    "model = LinearRegression( iterations = 10000, learning_rate = 0.0015 )\n",
    "\n",
    "model.fit(x_train, y_train)"
   ]
  },
  {
   "cell_type": "markdown",
   "metadata": {
    "id": "lcLoHzvUxWGR"
   },
   "source": [
    "\n",
    "## Question: What is this function actually doing? 🤔\n",
    "#### Answer Here\n",
    "<br>\n",
    "this function here takes the learning rate and itterations for a model and then it updates the weights based ont he itteration at the speed of the learning rate. in updating the weights we calculte a predicted value of y and then we use it to calculate the defeerential of wieghts and  biases based on mse and then update the values"
   ]
  },
  {
   "cell_type": "markdown",
   "metadata": {
    "id": "T6lZQDa7q0tn"
   },
   "source": [
    "### Now predict the output for the test data"
   ]
  },
  {
   "cell_type": "code",
   "execution_count": null,
   "metadata": {},
   "outputs": [],
   "source": []
  },
  {
   "cell_type": "markdown",
   "metadata": {
    "id": "ckCFvy3aq7wg"
   },
   "source": [
    "### Calculate the mean squared error\n"
   ]
  },
  {
   "cell_type": "code",
   "execution_count": null,
   "metadata": {},
   "outputs": [],
   "source": []
  },
  {
   "cell_type": "markdown",
   "metadata": {
    "id": "e1EBHP2VrAH4"
   },
   "source": [
    "### Plot a similar scatter plot as above\n"
   ]
  },
  {
   "cell_type": "code",
   "execution_count": null,
   "metadata": {},
   "outputs": [],
   "source": []
  },
  {
   "cell_type": "markdown",
   "metadata": {
    "id": "pTA4m8XPxWGS"
   },
   "source": [
    "# Classification"
   ]
  },
  {
   "cell_type": "markdown",
   "metadata": {
    "id": "cpFN-C1nxWGS"
   },
   "source": [
    "#### In the below cells, we are going to implement K Nearest Neighbour Classification."
   ]
  },
  {
   "cell_type": "markdown",
   "metadata": {
    "id": "9RvUr7b4xWGS"
   },
   "source": [
    "Link to the dataset is here - https://drive.google.com/file/d/1bVOfBJYUr0JtZ7pp1lcyNamnHHXn_fDm/view?usp=sharing <br>\n",
    "\n",
    "Import the 'classified_data.txt' dataset using pandas and print the first five columns.\n",
    "\n",
    "Use \"index_col\" parameter to index the dataframe according to the first column. Otherwise, a new column would get created. Call this new dataframe 'df'."
   ]
  },
  {
   "cell_type": "code",
   "execution_count": null,
   "metadata": {},
   "outputs": [],
   "source": [
    "df = pd.read_csv(\"/content/drive/My Drive/classified_data.txt\",index_col=0)"
   ]
  },
  {
   "cell_type": "code",
   "execution_count": null,
   "metadata": {},
   "outputs": [],
   "source": [
    "df.head()"
   ]
  },
  {
   "cell_type": "markdown",
   "metadata": {
    "id": "9x5nhhlixWGS"
   },
   "source": [
    "If you're wondering what these column names signify, well they are classified as the dataset name suggests. Our job here is to simply take the data at face value and build a model for classifying the target classes."
   ]
  },
  {
   "cell_type": "markdown",
   "metadata": {
    "id": "uvg5bbOxxWGS"
   },
   "source": [
    "## Basic EDA"
   ]
  },
  {
   "cell_type": "markdown",
   "metadata": {
    "id": "faSeXWIExWGS"
   },
   "source": [
    "### In the following two cells, use info() and describe() to get the data type and statistical summary of the dataset"
   ]
  },
  {
   "cell_type": "code",
   "execution_count": null,
   "metadata": {},
   "outputs": [],
   "source": [
    "df.info()"
   ]
  },
  {
   "cell_type": "code",
   "execution_count": null,
   "metadata": {},
   "outputs": [],
   "source": [
    "df.describe()"
   ]
  },
  {
   "cell_type": "markdown",
   "metadata": {
    "id": "mgVuJkaDxWGT"
   },
   "source": [
    "### Draw boxplots for all the features for '0' and 'TARGET CLASS'"
   ]
  },
  {
   "cell_type": "code",
   "execution_count": null,
   "metadata": {},
   "outputs": [],
   "source": [
    "sns.boxplot(x='TARGET CLASS', y='WTT', data=df)"
   ]
  },
  {
   "cell_type": "markdown",
   "metadata": {
    "id": "zi5nkaJyxWGT"
   },
   "source": [
    "### Question: What conclusion, if any can you draw from these boxplots?🤔\n",
    "List them down below."
   ]
  },
  {
   "cell_type": "markdown",
   "metadata": {
    "id": "FKcopv9ixWGT"
   },
   "source": [
    "### Standardize the features using sklearn.preprocessing\n",
    "\n"
   ]
  },
  {
   "cell_type": "markdown",
   "metadata": {
    "id": "PJhU_4P-xWGT"
   },
   "source": [
    "##### import StandardScaler from Sklearn and instantiate it to a variable called \"scaler"
   ]
  },
  {
   "cell_type": "code",
   "execution_count": null,
   "metadata": {},
   "outputs": [],
   "source": [
    "from sklearn.preprocessing import StandardScaler\n",
    "scaler = StandardScaler()"
   ]
  },
  {
   "cell_type": "markdown",
   "metadata": {
    "id": "NWbsLGpFxWGT"
   },
   "source": [
    "##### Fit only the features data to this scaler (leaving the TARGET CLASS column out) and then transform\n"
   ]
  },
  {
   "cell_type": "code",
   "execution_count": null,
   "metadata": {},
   "outputs": [],
   "source": [
    "df.columns"
   ]
  },
  {
   "cell_type": "code",
   "execution_count": null,
   "metadata": {},
   "outputs": [],
   "source": [
    "scaler.fit(df[['WTT', 'PTI', 'EQW', 'SBI', 'LQE', 'QWG', 'FDJ', 'PJF', 'HQE', 'NXJ']])"
   ]
  },
  {
   "cell_type": "markdown",
   "metadata": {
    "id": "W5VkBf27xWGT"
   },
   "source": [
    "**scaler.transform() will return an array. We need to convert this into a dataframe. Do this and add the column names to the dataframe. Call this new dataframe as \"df_feat\". Call head() on this df**<br>\n",
    "Note: The final dataframe will have the initial columns except the \"TARGET CLASS\"."
   ]
  },
  {
   "cell_type": "code",
   "execution_count": null,
   "metadata": {},
   "outputs": [],
   "source": [
    "scaled_array = scaler.transform(df[['WTT','PTI','EQW','SBI','LQE','QWG','FDJ','PJF','HQE','NXJ']])\n"
   ]
  },
  {
   "cell_type": "code",
   "execution_count": null,
   "metadata": {},
   "outputs": [],
   "source": [
    "df_feat = pd.DataFrame(scaled_array, columns=['WTT','PTI','EQW','SBI','LQE','QWG','FDJ','PJF','HQE','NXQ'])\n",
    "df_feat.head()"
   ]
  },
  {
   "cell_type": "markdown",
   "metadata": {
    "id": "xNb5Ha0zxWGT"
   },
   "source": [
    "## Train/Test split"
   ]
  },
  {
   "cell_type": "markdown",
   "metadata": {
    "id": "O_Le7iqsxWGT"
   },
   "source": [
    "### Set X to be equal to df_feat and set y accordingly. As you know, X contains our training features and y contains our target.\n",
    "Hint: y can be taken directly from the initial dataframe \"df\""
   ]
  },
  {
   "cell_type": "code",
   "execution_count": null,
   "metadata": {},
   "outputs": [],
   "source": [
    "x = df_feat\n",
    "y = df['TARGET CLASS']"
   ]
  },
  {
   "cell_type": "markdown",
   "metadata": {
    "id": "r-d-HgMBxWGT"
   },
   "source": [
    "**Import train_test_split function from scikit-learn**<br>\n",
    "**Create X and y train and test splits in one command using a test size of 0.3 and a random seed**<br>\n",
    "They should be called X_train, X_test, y_train, y_test"
   ]
  },
  {
   "cell_type": "code",
   "execution_count": null,
   "metadata": {},
   "outputs": [],
   "source": [
    "from sklearn.model_selection import train_test_split\n",
    "x_train,x_test, y_train, y_test=train_test_split(x,y,test_size=0.3)"
   ]
  },
  {
   "cell_type": "markdown",
   "metadata": {
    "id": "gTIIRN3dxWGU"
   },
   "source": [
    "### Model fit and training"
   ]
  },
  {
   "cell_type": "markdown",
   "metadata": {
    "id": "0m53d6_rxWGU"
   },
   "source": [
    "Before moving ahead with the cells below, learn how the K Nearest Neighbour Algorithm actually works.\n",
    "\n",
    "Theory and implementation : https://youtu.be/wTF6vzS9fy4 <br>\n",
    "Theory: https://www.analyticsvidhya.com/blog/2018/08/k-nearest-neighbor-introduction-regression-python/"
   ]
  },
  {
   "cell_type": "markdown",
   "metadata": {
    "id": "VbpGw0OGxWGU"
   },
   "source": [
    "**import KNeighborsClassifier from sklearn and initialize it with neighbours = 1 (more on this later) . Fit this on X_train and y_train**"
   ]
  },
  {
   "cell_type": "code",
   "execution_count": null,
   "metadata": {},
   "outputs": [],
   "source": [
    "from sklearn.neighbors import KNeighborsClassifier\n",
    "knn = KNeighborsClassifier(n_neighbors=1)"
   ]
  },
  {
   "cell_type": "code",
   "execution_count": null,
   "metadata": {},
   "outputs": [],
   "source": [
    "knn.fit(x_train,y_train)"
   ]
  },
  {
   "cell_type": "markdown",
   "metadata": {
    "id": "MecJZKBAxWGU"
   },
   "source": [
    "**Using this fitted model, predict on X_test. Store these predictions in variable called pred.**"
   ]
  },
  {
   "cell_type": "code",
   "execution_count": null,
   "metadata": {},
   "outputs": [],
   "source": [
    "x_pred = knn.predict(x_test)"
   ]
  },
  {
   "cell_type": "markdown",
   "metadata": {
    "id": "XJo8mltyxWGU"
   },
   "source": [
    "**Let us check how correct these predictions are.<br>\n",
    "Print a classification report of y_test and pred**<br>\n",
    "Hint: sklearn classification_report"
   ]
  },
  {
   "cell_type": "code",
   "execution_count": null,
   "metadata": {},
   "outputs": [],
   "source": [
    "from sklearn.metrics import classification_report"
   ]
  },
  {
   "cell_type": "code",
   "execution_count": null,
   "metadata": {},
   "outputs": [],
   "source": [
    "print(classification_report(y_test,x_pred))"
   ]
  },
  {
   "cell_type": "markdown",
   "metadata": {
    "id": "26OW0N0gxWGU"
   },
   "source": [
    "#### Learn all about classification metrics - https://medium.com/analytics-vidhya/evaluation-metrics-for-classification-models-e2f0d8009d69"
   ]
  },
  {
   "cell_type": "markdown",
   "metadata": {
    "id": "2gYXrKNGxWGU"
   },
   "source": [
    "**Print the accuracy using numpy and round it to 3 decimal places.**"
   ]
  },
  {
   "cell_type": "code",
   "execution_count": null,
   "metadata": {},
   "outputs": [],
   "source": [
    "from sklearn.model_selection import cross_val_score\n",
    "\n",
    "score=cross_val_score(knn,df_feat,df['TARGET CLASS'],cv=10)\n",
    "accuracy_rate = score.mean()\n",
    "print(accuracy_rate*100)"
   ]
  },
  {
   "cell_type": "code",
   "execution_count": null,
   "metadata": {},
   "outputs": [],
   "source": [
    "def accuracy(y_test,y_pred):\n",
    "  accurate_values_predicted =0\n",
    "  for actual,pred in zip(y_test,y_pred):\n",
    "    if actual == pred :\n",
    "      accurate_values_predicted +=1\n",
    "  return accurate_values_predicted/len(y_test)\n",
    "calculated_accuracy = accuracy(y_test, x_pred)\n",
    "print(calculated_accuracy*100)"
   ]
  },
  {
   "cell_type": "markdown",
   "metadata": {
    "id": "m3SLsQtMxWGU"
   },
   "source": [
    "##### Hey, not bad! But can we further improve this? Remember our arbitrary choice for n_neighbours? Can we improve that?"
   ]
  },
  {
   "cell_type": "markdown",
   "metadata": {
    "id": "333ABf6jxWGV"
   },
   "source": [
    "### Choosing optimal 'k'"
   ]
  },
  {
   "cell_type": "markdown",
   "metadata": {
    "id": "TOHEfmnBxWGV"
   },
   "source": [
    "**Above, we chose n_neighbours to be equal to 1. Choosing a small value of K leads to unstable decision boundaries. <br>\n",
    "We need to select n_neighbours by calculating the accuracy for every value of n from 1 to 60 and then choosing the one which gives the highest accuracy.**"
   ]
  },
  {
   "cell_type": "code",
   "execution_count": null,
   "metadata": {},
   "outputs": [],
   "source": [
    "accuracy_rate = []\n",
    "\n",
    "for i in range(1,60):\n",
    "  knn = KNeighborsClassifier(n_neighbors=i)\n",
    "  #cross_val_score(estimator(model),x,y,cv splittter(def = 5),scoring)\n",
    "  score = cross_val_score(knn,df_feat,df['TARGET CLASS'])\n",
    "  accuracy_rate.append(score.mean())\n",
    "print(accuracy_rate)"
   ]
  },
  {
   "cell_type": "markdown",
   "metadata": {
    "id": "wV5NAY1ExWGV"
   },
   "source": [
    "##### **Plot a graph of K value vs Accuracy**"
   ]
  },
  {
   "cell_type": "code",
   "execution_count": null,
   "metadata": {},
   "outputs": [],
   "source": [
    "plt.figure(figsize=(10,6))\n",
    "plt.plot(range(1,60),accuracy_rate,color='green',linestyle='dashed',marker='*',markerfacecolor='red',markersize=10)"
   ]
  },
  {
   "cell_type": "markdown",
   "metadata": {
    "id": "KmcXHUZXxWGV"
   },
   "source": [
    "##### **Choose the best value of n_neighbours and give a reason why and also print the accuracy**"
   ]
  },
  {
   "cell_type": "code",
   "execution_count": null,
   "metadata": {},
   "outputs": [],
   "source": [
    "from sklearn.model_selection import cross_val_score\n",
    "knn = KNeighborsClassifier(n_neighbors=32)\n",
    "score=cross_val_score(knn,df_feat,df['TARGET CLASS'],cv=10)\n",
    "accuracy_rate = score.mean()\n",
    "print(accuracy_rate*100)"
   ]
  },
  {
   "cell_type": "markdown",
   "metadata": {
    "id": "cMmp4THVLRzW"
   },
   "source": [
    "# k = 32\n",
    "  - since it is the value of peak accuracy after which the accuraccy doesnt deviate much\n",
    "  - It is stabalised and decreased volitility is observed after that"
   ]
  },
  {
   "cell_type": "markdown",
   "metadata": {
    "id": "WcAebMdN0DSw"
   },
   "source": [
    "## RESEARCH TASK:\n"
   ]
  },
  {
   "cell_type": "markdown",
   "metadata": {
    "id": "ThX6qWK8awJ7"
   },
   "source": [
    "### Study Logistic Regression, using the following resources:\n",
    "https://www.datacamp.com/tutorial/understanding-logistic-regression-python\n",
    "\n",
    "https://www.ibm.com/think/topics/logistic-regression#:~:text=In%20logistic%20regression%2C%20the%20model,value%20between%200%20and%201.\n",
    "\n",
    "https://medium.com/@abhishekjainindore24/all-about-logistic-regression-bd135b6e3993\n",
    "\n",
    "\n",
    "\n",
    "\n"
   ]
  },
  {
   "cell_type": "markdown",
   "metadata": {
    "id": "VW4xnlpANbIc"
   },
   "source": [
    "## **Logistic Regression**\n",
    "- It is employed for binary classification tasks.\n",
    "- The model predicts the probability that a specific outcome occurs.\n",
    "- The output of the model is a value between 0 and 1.\n",
    "- It fits an S-shaped curve to map input values to a probability.\n",
    "---\n",
    "- Logistic v/s Linear\n",
    "  * Unlike Linear Regression (which predicts a continuous value like price or age), Logistic Regression is a classification algorithm (predicting categorical outcome)\n",
    "  * Logistic Regression doesnt have a best fit line it has a sigmoid function\n",
    "  * In Linear Regression, coefficients (β) are found by minimizing the sum of squared errors (Least Squares). In Logistic Regression, coefficients are found using Maximum Likelihood Estimation (MLE).\n",
    "  * The coefficients (βi) in Logistic Regression cannot be interpreted directly like those in Linear Regression. Instead, they relate to the log-odds or odds ratio.\n",
    "\n",
    "---\n",
    "\n",
    "#Logit Function\n",
    "\n",
    "> Z = β0 + β1 X1 + β2 X2 + ......\n",
    "\n",
    " linear function Z directly, the output could range from (−∞,∞). We need to convert this unbounded value Z into a probability P, which is constrained between 0 and 1.\n",
    "\n",
    "#Transformation\n",
    "\n",
    "Sigmoid function achieves this tranformation:\n",
    "\n",
    "> P(x) = e^Z / (1+e^Z)\n",
    "\n",
    "P(X) is the predicted probability (the output, 0 to 1).\n",
    "\n",
    "e is Euler's number (approx. 2.718).\n",
    "\n",
    "Z is the linear equation (the unbounded input).\n",
    "\n",
    "\n",
    "#**Maximum Likelihood Estimation**\n",
    "\n",
    "MLE aims to find the values for the coefficients (β0,β1,…) that make the observed data most likely to occur under the model.\n",
    "\n",
    "    * The model calculates the predicted probability P(xi) for every datapoint i\n",
    "\n",
    "    * It then uses the Likelihood Function (or typically the easier-to-optimize Log-Likelihood) to calculate how good those predictions are:\n",
    "      1. If the actual outcome Yi is 1, the model wants P(xi) to be close to 1.\n",
    "      2. If the actual outcome Yi is 0, the model wants P(xi) to be close to 0 (meaning 1-P(xi) is close to 1).\n",
    "\n",
    "    * An optimization algorithm (usually Gradient Descent) iteratively adjusts the coefficients (β) in the direction that maximizes this Log-Likelihood until the model converges on the best set of parameters.\n",
    "\n",
    "Likelihood Function\n",
    "\n",
    "![image.png](data:image/png;base64,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)\n",
    "\n",
    "The Log Likelihood function\n",
    "\n",
    "![image.png](data:image/png;base64,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)\n",
    "\n",
    "# Model Interpretation\n",
    "    * Log-Odds (inteermediate step)\n",
    "\n",
    "      - Odds can range from 0 to infinity. An odds value greater than 1 indicates a favorable outcome, less than 1 indicates an unfavorable outcome and equal to 1 means the event is just as likely to occur as not.\n",
    "      - However, the odds are not symmetric around 1.\n",
    "      - To address this imbalance, we take the logarithm of the odds, which transforms the unbounded [0, ∞) scale of odds to the real number line (−∞, ∞). This is known as the log-odds, or logit, and is the foundation of the logistic regression model.\n",
    "      - This transformation allows logistic regression to output valid probabilities, even though we’re modeling them using a linear function underneath.\n",
    "\n",
    "\n",
    "> log(p/(1-p)) = β0 + β1 X1\n",
    "\n",
    "> (p/(1-p)) = e^ (β0 + β1 X1)\n",
    "\n",
    "> p = e^ (β0 + β1 X1) / 1+ e^ (β0 + β1 X1)\n",
    "\n",
    "---\n",
    "- Odd Ratio\n",
    "\n",
    " concept that helps interpret the effect of model coefficients.\n",
    "\n",
    "> odd(x1) = e^ (β0 + β1 X1)\n",
    "\n",
    "if we increase x1 by one unit the new odds become:\n",
    "> odd(x1+1) = e^ (β0 + β1 (X1+1))\n",
    "\n",
    "> odd(x1+1) = e^ (β0 + β1 X1) . e^ β1\n",
    "\n",
    "- If  b1>1, then the odds increase (event becomes more likely)\n",
    "\n",
    "- If  b1< 1, then the odds decrease (events becomes like likely)\n",
    "\n",
    "- If  b1=1, the odds ratio is 0, meaning the input has no effect on the odds\n",
    "\n",
    " odds ratio gives logistic regression its interpretability—it tells you how the odds of an event change based on inputs.\n",
    "\n",
    "---\n",
    "- Types of Logistic Regression\n",
    "1. Binary Logisstic Regression\n",
    "\n",
    " In this approach, the response or dependent variable is dichotomous in nature—that is, it has only two possible outcomes (for example, 0 or 1).\n",
    "\n",
    "2. Multinomial Logistic Regrssion\n",
    "\n",
    " In this type of logistic regression model, the dependent variable has three or more possible outcomes; however, these values have no specified order.\n",
    "\n",
    "3. Ordinal Logistic Regression\n",
    "\n",
    "This type of logistic regression model is leveraged when the response variable has three or more possible outcomes, but in this case, these values do have a defined order.\n",
    "\n",
    "\n",
    "    \n",
    "\n",
    "\n",
    "\n"
   ]
  },
  {
   "cell_type": "markdown",
   "metadata": {
    "id": "Zhik_Wxjblf4"
   },
   "source": [
    "### Now implement logistic regression for the same insurance dataset we used for linear regression, and explain how it works"
   ]
  },
  {
   "cell_type": "code",
   "execution_count": null,
   "metadata": {},
   "outputs": [],
   "source": [
    "dtf = pd.read_csv(\"/content/drive/My Drive/insurance.csv\")"
   ]
  },
  {
   "cell_type": "code",
   "execution_count": null,
   "metadata": {},
   "outputs": [],
   "source": [
    "dtf.head(100)"
   ]
  },
  {
   "cell_type": "code",
   "execution_count": null,
   "metadata": {},
   "outputs": [],
   "source": [
    "dtf.info()"
   ]
  },
  {
   "cell_type": "code",
   "execution_count": null,
   "metadata": {},
   "outputs": [],
   "source": [
    "dtf.describe()"
   ]
  },
  {
   "cell_type": "code",
   "execution_count": null,
   "metadata": {},
   "outputs": [],
   "source": [
    "from sklearn.preprocessing import LabelEncoder\n",
    "lb = LabelEncoder()\n",
    "dtf['sex'] = lb.fit_transform(dtf['sex'])\n",
    "dtf['smoker'] = lb.fit_transform(dtf['smoker'])\n",
    "dtf['region'] = lb.fit_transform(dtf['region'])"
   ]
  },
  {
   "cell_type": "code",
   "execution_count": null,
   "metadata": {},
   "outputs": [],
   "source": [
    "dtf.columns"
   ]
  },
  {
   "cell_type": "code",
   "execution_count": null,
   "metadata": {},
   "outputs": [],
   "source": [
    "feature_columns = ['age', 'sex', 'bmi', 'children', 'smoker', 'region']\n",
    "X = dtf[feature_columns] #features\n",
    "median_charge = dtf['charges'].median()\n",
    "dtf['charge_class'] = np.where(dtf['charges'] > median_charge, 1, 0)\n",
    "Y = dtf['charge_class'] #target"
   ]
  },
  {
   "cell_type": "code",
   "execution_count": null,
   "metadata": {},
   "outputs": [],
   "source": [
    "print(X.dtypes)\n",
    "print(Y.dtypes)"
   ]
  },
  {
   "cell_type": "code",
   "execution_count": null,
   "metadata": {},
   "outputs": [],
   "source": [
    "from sklearn.model_selection import train_test_split\n",
    "X_train, X_test, Y_train, Y_test = train_test_split(X, Y, test_size=0.3)"
   ]
  },
  {
   "cell_type": "code",
   "execution_count": null,
   "metadata": {},
   "outputs": [],
   "source": [
    "from sklearn.linear_model import LogisticRegression\n",
    "logi = LogisticRegression()\n",
    "logi.fit(X_train,Y_train)"
   ]
  },
  {
   "cell_type": "code",
   "execution_count": null,
   "metadata": {},
   "outputs": [],
   "source": [
    "pred = logi.predict(X_test)"
   ]
  },
  {
   "cell_type": "code",
   "execution_count": null,
   "metadata": {},
   "outputs": [],
   "source": [
    "from sklearn.metrics import classification_report\n",
    "target_names = ['low charge', 'high charge']\n",
    "print(classification_report(Y_test,pred,target_names=target_names))"
   ]
  },
  {
   "cell_type": "markdown",
   "metadata": {
    "id": "zUdDaZ9f3TYv"
   },
   "source": [
    "precision = tp / tp+fp\n",
    "\n",
    "recall = tp / tp+fn\n",
    "\n",
    "f1 score = 2((precision * recall ) / (precision + recall))"
   ]
  },
  {
   "cell_type": "markdown",
   "metadata": {
    "id": "TllcdIWPyela"
   },
   "source": [
    "# Inference:\n",
    "\n",
    "Accuracy = 90%\n",
    "\n",
    "total Samples = 402\n",
    "\n",
    "low charge = 203\n",
    "\n",
    "high charge = 199\n",
    "\n",
    "# low charge (0)\n",
    "\n",
    "Precision = it predicts low charges correctly 90% of the time\n",
    "\n",
    "Recall = it correctly identifies 90% of all acutal low charges\n",
    "\n",
    "# high charge (1)\n",
    "\n",
    "Precision = it predicts high charges correctly 89% of the time\n",
    "\n",
    "Recall = it correctly identifies 89% of all acutal high charges"
   ]
  },
  {
   "cell_type": "code",
   "execution_count": null,
   "metadata": {},
   "outputs": [],
   "source": [
    "from sklearn import metrics\n",
    "\n",
    "cnf_matrix = metrics.confusion_matrix(Y_test, pred)\n",
    "cnf_matrix"
   ]
  },
  {
   "cell_type": "markdown",
   "metadata": {
    "id": "v-CIobpCypac"
   },
   "source": [
    "Inference:\n",
    "- TN : 182 times correctly predicted low charges ~ 0\n",
    "- FP : 21 times incorrectly predicted high charges ~ 1\n",
    "- FN : 21 times incorrectly predicted low charges ~ 0\n",
    "- TP : 178 times correctly predicted high charges ~ 1"
   ]
  },
  {
   "cell_type": "code",
   "execution_count": null,
   "metadata": {},
   "outputs": [],
   "source": [
    "sns.heatmap(cnf_matrix , annot = True)\n",
    "plt.ylabel('Actual label')\n",
    "plt.xlabel('Predicted label')"
   ]
  },
  {
   "cell_type": "code",
   "execution_count": null,
   "metadata": {},
   "outputs": [],
   "source": [
    "print(\"Accuracy\")\n",
    "print(\"Total Correct Predictions =\" ,(cnf_matrix[0][0]+cnf_matrix[1][1]))\n",
    "print(\"Total Samples in Test =\", (cnf_matrix[0][0]+cnf_matrix[1][1]+cnf_matrix[0][1]+cnf_matrix[1][0]))\n",
    "print(\"Accuracy =\",((cnf_matrix[0][0]+cnf_matrix[1][1])/(cnf_matrix[0][0]+cnf_matrix[1][1]+cnf_matrix[0][1]+cnf_matrix[1][0]))*100,\"%\")"
   ]
  },
  {
   "cell_type": "markdown",
   "metadata": {
    "id": "8Z1KJfMLcWPI"
   },
   "source": [
    "# ALL THE BEST!!!"
   ]
  },
  {
   "cell_type": "markdown",
   "metadata": {
    "id": "aBvan8AzGcmv"
   },
   "source": [
    "End of Task\n",
    "\n",
    "©DJS Synapse 2025 - 2026"
   ]
  },
  {
   "cell_type": "code",
   "execution_count": null,
   "metadata": {},
   "outputs": [],
   "source": []
  }
 ],
 "metadata": {
  "language_info": {
   "name": "python"
  }
 },
 "nbformat": 4,
 "nbformat_minor": 0
}
